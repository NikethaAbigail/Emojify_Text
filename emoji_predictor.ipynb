{
 "cells": [
  {
   "cell_type": "code",
   "execution_count": 1,
   "id": "bbce914b",
   "metadata": {},
   "outputs": [
    {
     "data": {
      "text/plain": [
       "['.cache',\n",
       " '.conda',\n",
       " '.condarc',\n",
       " '.continuum',\n",
       " '.dotnet',\n",
       " '.ipynb_checkpoints',\n",
       " '.ipython',\n",
       " '.jupyter',\n",
       " '.matplotlib',\n",
       " '.ms-ad',\n",
       " 'anaconda3',\n",
       " 'AppData',\n",
       " 'Application Data',\n",
       " 'archive (2).zip',\n",
       " 'Contacts',\n",
       " 'Cookies',\n",
       " 'data',\n",
       " 'Desktop',\n",
       " 'Documents',\n",
       " 'Downloads',\n",
       " 'emoji_predictor.ipynb',\n",
       " 'Favorites',\n",
       " 'full_emoji.csv',\n",
       " 'Links',\n",
       " 'Local Settings',\n",
       " 'Music',\n",
       " 'My Documents',\n",
       " 'NetHood',\n",
       " 'NTUSER.DAT',\n",
       " 'ntuser.dat.LOG1',\n",
       " 'ntuser.dat.LOG2',\n",
       " 'NTUSER.DAT{9b20f191-ee29-11ef-9496-9e82d11c4130}.TM.blf',\n",
       " 'NTUSER.DAT{9b20f191-ee29-11ef-9496-9e82d11c4130}.TMContainer00000000000000000001.regtrans-ms',\n",
       " 'NTUSER.DAT{9b20f191-ee29-11ef-9496-9e82d11c4130}.TMContainer00000000000000000002.regtrans-ms',\n",
       " 'ntuser.ini',\n",
       " 'OneDrive',\n",
       " 'Pictures',\n",
       " 'PrintHood',\n",
       " 'Recent',\n",
       " 'Saved Games',\n",
       " 'Searches',\n",
       " 'SendTo',\n",
       " 'Start Menu',\n",
       " 'Templates',\n",
       " 'Videos']"
      ]
     },
     "execution_count": 1,
     "metadata": {},
     "output_type": "execute_result"
    }
   ],
   "source": [
    "import os\n",
    "os.listdir()"
   ]
  },
  {
   "cell_type": "code",
   "execution_count": 2,
   "id": "5bce9a79",
   "metadata": {},
   "outputs": [
    {
     "name": "stdout",
     "output_type": "stream",
     "text": [
      "✅ Extracted to: data\n"
     ]
    }
   ],
   "source": [
    "zip_path = \"archive (2).zip\"  \n",
    "extract_to = \"data\"  \n",
    "\n",
    "import zipfile\n",
    "\n",
    "# Unzip\n",
    "with zipfile.ZipFile(zip_path, 'r') as zip_ref:\n",
    "    zip_ref.extractall(extract_to)\n",
    "\n",
    "print(\"✅ Extracted to:\", extract_to)\n"
   ]
  },
  {
   "cell_type": "code",
   "execution_count": 3,
   "id": "09298003",
   "metadata": {},
   "outputs": [
    {
     "name": "stdout",
     "output_type": "stream",
     "text": [
      "backhand_index_pointing_right.csv\n",
      "check_mark.csv\n",
      "check_mark_button.csv\n",
      "clown_face.csv\n",
      "cooking.csv\n",
      "egg.csv\n",
      "enraged_face.csv\n",
      "eyes.csv\n",
      "face_holding_back_tears.csv\n",
      "face_savoring_food.csv\n",
      "face_with_steam_from_nose.csv\n",
      "face_with_tears_of_joy.csv\n",
      "fearful_face.csv\n",
      "fire.csv\n",
      "folded_hands.csv\n",
      "ghost.csv\n",
      "grinning_face_with_sweat.csv\n",
      "hatching_chick.csv\n",
      "hot_face.csv\n",
      "loudly_crying_face.csv\n",
      "melting_face.csv\n",
      "middle_finger.csv\n",
      "partying_face.csv\n",
      "party_popper.csv\n",
      "pile_of_poo.csv\n",
      "rabbit.csv\n",
      "rabbit_face.csv\n",
      "red_heart.csv\n",
      "rolling_on_the_floor_laughing.csv\n",
      "saluting_face.csv\n",
      "skull.csv\n",
      "smiling_face.csv\n",
      "smiling_face_with_halo.csv\n",
      "smiling_face_with_heart-eyes.csv\n",
      "smiling_face_with_hearts.csv\n",
      "smiling_face_with_sunglasses.csv\n",
      "smiling_face_with_tear.csv\n",
      "sparkles.csv\n",
      "sun.csv\n",
      "thinking_face.csv\n",
      "thumbs_up.csv\n",
      "white_heart.csv\n",
      "winking_face.csv\n"
     ]
    }
   ],
   "source": [
    "import os\n",
    "\n",
    "\n",
    "for file in os.listdir(extract_to):\n",
    "    print(file)\n"
   ]
  },
  {
   "cell_type": "code",
   "execution_count": 4,
   "id": "b83b822a",
   "metadata": {},
   "outputs": [
    {
     "name": "stderr",
     "output_type": "stream",
     "text": [
      "C:\\Users\\LENOVO\\anaconda3\\anaconda\\Lib\\site-packages\\pandas\\core\\arrays\\masked.py:60: UserWarning: Pandas requires version '1.3.6' or newer of 'bottleneck' (version '1.3.5' currently installed).\n",
      "  from pandas.core import (\n"
     ]
    },
    {
     "name": "stdout",
     "output_type": "stream",
     "text": [
      "Loaded 43 files successfully. Skipped 0 with errors.\n"
     ]
    }
   ],
   "source": [
    "import pandas as pd\n",
    "import os\n",
    "\n",
    "data_dir = \"data\"  \n",
    "emoji_data = []\n",
    "errors = []\n",
    "\n",
    "for file in os.listdir(data_dir):\n",
    "    if file.endswith(\".csv\"):\n",
    "        path = os.path.join(data_dir, file)\n",
    "        try:\n",
    "            df = pd.read_csv(path, encoding='utf-8', engine='python', on_bad_lines='skip')  \n",
    "            if 'Text' not in df.columns:\n",
    "                continue \n",
    "            df['emoji'] = file.replace('.csv', '')  \n",
    "            emoji_data.append(df)\n",
    "        except Exception as e:\n",
    "            errors.append((file, str(e)))\n",
    "\n",
    "# Combine valid data\n",
    "if emoji_data:\n",
    "    full_df = pd.concat(emoji_data, ignore_index=True)\n",
    "    full_df.rename(columns={'Text': 'text'}, inplace=True)\n",
    "    print(f\"Loaded {len(emoji_data)} files successfully. Skipped {len(errors)} with errors.\")\n",
    "    if errors:\n",
    "        print(\"Files with errors:\")\n",
    "        for fname, err in errors:\n",
    "            print(f\"- {fname}: {err}\")\n",
    "else:\n",
    "    print(\"No valid files loaded.\")\n"
   ]
  },
  {
   "cell_type": "code",
   "execution_count": 5,
   "id": "ae884f71",
   "metadata": {},
   "outputs": [
    {
     "name": "stdout",
     "output_type": "stream",
     "text": [
      "                                                text  \\\n",
      "0  🧡@KeplerHomes AirdropBox event for #Arbitrum e...   \n",
      "1  Remember, success in online business is a mara...   \n",
      "2  @occupied_9 @Rhiannon_clare_ @FightHaven Thank...   \n",
      "3  Hungry for active mutuals👬👭? Follow fastest Re...   \n",
      "4  📢 It's confirmed. Whitelist for Shardeum Airdr...   \n",
      "\n",
      "                                          clean_text  \\\n",
      "0  @KeplerHomes AirdropBox event for #Arbitrum ec...   \n",
      "1  Remember, success in online business is a mara...   \n",
      "2  @occupied_9 @Rhiannon_clare_ @FightHaven Thank...   \n",
      "3  Hungry for active mutuals? Follow fastest Retw...   \n",
      "4  It's confirmed. Whitelist for Shardeum Airdrop...   \n",
      "\n",
      "                           emoji  \n",
      "0  backhand_index_pointing_right  \n",
      "1  backhand_index_pointing_right  \n",
      "2  backhand_index_pointing_right  \n",
      "3  backhand_index_pointing_right  \n",
      "4  backhand_index_pointing_right  \n"
     ]
    }
   ],
   "source": [
    "import re\n",
    "\n",
    "def clean_text(text):\n",
    "    text = str(text)\n",
    "    text = re.sub(r\"http\\S+|www\\S+|https\\S+\", '', text)  # remove URLs\n",
    "    text = re.sub(r'\\s+', ' ', text)  # remove extra whitespaces\n",
    "    text = re.sub(r'[^\\x00-\\x7F]+', '', text)  # remove emojis/non-ASCII chars\n",
    "    return text.strip()\n",
    "\n",
    "\n",
    "full_df['clean_text'] = full_df['text'].apply(clean_text)\n",
    "\n",
    "\n",
    "print(full_df[['text', 'clean_text', 'emoji']].head())\n"
   ]
  },
  {
   "cell_type": "code",
   "execution_count": 6,
   "id": "5d126b21",
   "metadata": {
    "scrolled": true
   },
   "outputs": [
    {
     "name": "stdout",
     "output_type": "stream",
     "text": [
      "Emoji Label Mapping: {'backhand_index_pointing_right': 0, 'check_mark': 1, 'check_mark_button': 2, 'clown_face': 3, 'cooking': 4, 'egg': 5, 'enraged_face': 6, 'eyes': 7, 'face_holding_back_tears': 8, 'face_savoring_food': 9, 'face_with_steam_from_nose': 10, 'face_with_tears_of_joy': 11, 'fearful_face': 12, 'fire': 13, 'folded_hands': 14, 'ghost': 15, 'grinning_face_with_sweat': 16, 'hatching_chick': 17, 'hot_face': 18, 'loudly_crying_face': 19, 'melting_face': 20, 'middle_finger': 21, 'party_popper': 22, 'partying_face': 23, 'pile_of_poo': 24, 'rabbit': 25, 'rabbit_face': 26, 'red_heart': 27, 'rolling_on_the_floor_laughing': 28, 'saluting_face': 29, 'skull': 30, 'smiling_face': 31, 'smiling_face_with_halo': 32, 'smiling_face_with_heart-eyes': 33, 'smiling_face_with_hearts': 34, 'smiling_face_with_sunglasses': 35, 'smiling_face_with_tear': 36, 'sparkles': 37, 'sun': 38, 'thinking_face': 39, 'thumbs_up': 40, 'white_heart': 41, 'winking_face': 42}\n"
     ]
    }
   ],
   "source": [
    "from sklearn.preprocessing import LabelEncoder\n",
    "\n",
    "label_encoder = LabelEncoder()\n",
    "full_df['emoji_encoded'] = label_encoder.fit_transform(full_df['emoji'])\n",
    "\n",
    "\n",
    "emoji_classes = dict(zip(label_encoder.classes_, label_encoder.transform(label_encoder.classes_)))\n",
    "print(\"Emoji Label Mapping:\", emoji_classes)\n"
   ]
  },
  {
   "cell_type": "code",
   "execution_count": 7,
   "id": "8905823a",
   "metadata": {},
   "outputs": [
    {
     "name": "stdout",
     "output_type": "stream",
     "text": [
      "['text', 'emoji', 'clean_text', 'emoji_encoded']\n"
     ]
    }
   ],
   "source": [
    "print(full_df.columns.tolist())\n"
   ]
  },
  {
   "cell_type": "code",
   "execution_count": 8,
   "id": "981c6db1",
   "metadata": {},
   "outputs": [
    {
     "name": "stdout",
     "output_type": "stream",
     "text": [
      "Train size: 688022, Test size: 172006\n"
     ]
    }
   ],
   "source": [
    "from sklearn.model_selection import train_test_split\n",
    "\n",
    "X = full_df['clean_text']\n",
    "y = full_df['emoji_encoded']\n",
    "\n",
    "X_train, X_test, y_train, y_test = train_test_split(X, y, test_size=0.2, stratify=y, random_state=42)\n",
    "\n",
    "print(f\"Train size: {len(X_train)}, Test size: {len(X_test)}\")\n"
   ]
  },
  {
   "cell_type": "code",
   "execution_count": 9,
   "id": "a57be299",
   "metadata": {},
   "outputs": [
    {
     "name": "stdout",
     "output_type": "stream",
     "text": [
      "Vectorized training shape: (688022, 5000)\n",
      "Vectorized test shape: (172006, 5000)\n"
     ]
    }
   ],
   "source": [
    "from sklearn.feature_extraction.text import TfidfVectorizer\n",
    "\n",
    "# Initialize TF-IDF vectorizer\n",
    "vectorizer = TfidfVectorizer(max_features=5000, stop_words='english')\n",
    "\n",
    "\n",
    "X_train_vec = vectorizer.fit_transform(X_train)\n",
    "X_test_vec = vectorizer.transform(X_test)\n",
    "\n",
    "print(\"Vectorized training shape:\", X_train_vec.shape)\n",
    "print(\"Vectorized test shape:\", X_test_vec.shape)\n"
   ]
  },
  {
   "cell_type": "code",
   "execution_count": 10,
   "id": "8a4f3cc6",
   "metadata": {},
   "outputs": [
    {
     "name": "stdout",
     "output_type": "stream",
     "text": [
      "Accuracy: 0.19592921177168238\n",
      "Classification Report:\n",
      "                                precision    recall  f1-score   support\n",
      "\n",
      "backhand_index_pointing_right       0.32      0.49      0.39      4005\n",
      "                   check_mark       0.26      0.28      0.27      4000\n",
      "            check_mark_button       0.30      0.36      0.33      4000\n",
      "                   clown_face       0.21      0.22      0.21      4000\n",
      "                      cooking       0.45      0.33      0.38      4000\n",
      "                          egg       0.39      0.38      0.39      4000\n",
      "                 enraged_face       0.17      0.21      0.19      4000\n",
      "                         eyes       0.12      0.13      0.13      4000\n",
      "      face_holding_back_tears       0.13      0.16      0.14      4000\n",
      "           face_savoring_food       0.24      0.27      0.25      4000\n",
      "    face_with_steam_from_nose       0.10      0.09      0.09      4000\n",
      "       face_with_tears_of_joy       0.20      0.17      0.18      4000\n",
      "                 fearful_face       0.08      0.26      0.12      4000\n",
      "                         fire       0.18      0.15      0.16      4000\n",
      "                 folded_hands       0.22      0.23      0.23      4000\n",
      "                        ghost       0.27      0.11      0.15      4000\n",
      "     grinning_face_with_sweat       0.09      0.09      0.09      4000\n",
      "               hatching_chick       0.29      0.44      0.35      4000\n",
      "                     hot_face       0.21      0.22      0.21      4000\n",
      "           loudly_crying_face       0.13      0.15      0.14      4000\n",
      "                 melting_face       0.10      0.08      0.09      4000\n",
      "                middle_finger       0.20      0.22      0.21      4000\n",
      "                 party_popper       0.34      0.31      0.32      4000\n",
      "                partying_face       0.27      0.22      0.25      4000\n",
      "                  pile_of_poo       0.26      0.32      0.29      4000\n",
      "                       rabbit       0.34      0.24      0.28      4000\n",
      "                  rabbit_face       0.29      0.18      0.23      4000\n",
      "                    red_heart       0.15      0.07      0.10      4001\n",
      "rolling_on_the_floor_laughing       0.09      0.07      0.08      4000\n",
      "                saluting_face       0.15      0.13      0.14      4000\n",
      "                        skull       0.14      0.18      0.16      4000\n",
      "                 smiling_face       0.14      0.13      0.13      4000\n",
      "       smiling_face_with_halo       0.15      0.08      0.11      4000\n",
      " smiling_face_with_heart-eyes       0.15      0.15      0.15      4000\n",
      "     smiling_face_with_hearts       0.13      0.07      0.09      4000\n",
      " smiling_face_with_sunglasses       0.14      0.07      0.09      4000\n",
      "       smiling_face_with_tear       0.11      0.12      0.11      4000\n",
      "                     sparkles       0.10      0.04      0.06      4000\n",
      "                          sun       0.39      0.48      0.43      4000\n",
      "                thinking_face       0.16      0.20      0.18      4000\n",
      "                    thumbs_up       0.14      0.18      0.16      4000\n",
      "                  white_heart       0.14      0.10      0.11      4000\n",
      "                 winking_face       0.08      0.05      0.07      4000\n",
      "\n",
      "                     accuracy                           0.20    172006\n",
      "                    macro avg       0.20      0.20      0.19    172006\n",
      "                 weighted avg       0.20      0.20      0.19    172006\n",
      "\n"
     ]
    }
   ],
   "source": [
    "from sklearn.linear_model import LogisticRegression\n",
    "from sklearn.metrics import classification_report, accuracy_score\n",
    "\n",
    "# Train the model\n",
    "model = LogisticRegression(max_iter=200, solver='saga', n_jobs=-1)\n",
    "model.fit(X_train_vec, y_train)\n",
    "\n",
    "# Predict on test set\n",
    "y_pred = model.predict(X_test_vec)\n",
    "\n",
    "# Evaluate\n",
    "print(\"Accuracy:\", accuracy_score(y_test, y_pred))\n",
    "print(\"Classification Report:\\n\", classification_report(y_test, y_pred, target_names=label_encoder.classes_))\n"
   ]
  },
  {
   "cell_type": "code",
   "execution_count": 11,
   "id": "8bea17a8",
   "metadata": {},
   "outputs": [
    {
     "name": "stdout",
     "output_type": "stream",
     "text": [
      "\n",
      "Predicted Emojis:\n",
      "'That moment when your joke bombs in the group chat ' → skull\n",
      "'Happy birthday to you my friend' → partying_face\n",
      "'This is so frustrating I can't believe it' → loudly_crying_face\n",
      "'Thank you for your help' → folded_hands\n",
      "'New fitness journey starts today. Day 1 of 365' → backhand_index_pointing_right\n"
     ]
    }
   ],
   "source": [
    "def clean_text(text):\n",
    "    import re\n",
    "    text = re.sub(r\"http\\S+\", \"\", text)  # remove URLs\n",
    "    text = re.sub(r\"@\\w+\", \"\", text)     # remove mentions\n",
    "    text = re.sub(r\"#\\w+\", \"\", text)     # remove hashtags\n",
    "    text = re.sub(r\"[^\\w\\s]\", \"\", text)  # remove punctuation/symbols\n",
    "    text = text.lower().strip()\n",
    "    return text\n",
    "\n",
    "def predict_emoji(texts):\n",
    "    cleaned = [clean_text(text) for text in texts]\n",
    "    vec = vectorizer.transform(cleaned)\n",
    "    preds = model.predict(vec)\n",
    "    emojis = label_encoder.inverse_transform(preds)\n",
    "    return list(zip(texts, emojis))\n",
    "\n",
    "\n",
    "sample_texts = [\n",
    "    \"That moment when your joke bombs in the group chat \",\n",
    "    \"Happy birthday to you my friend\",\n",
    "    \"This is so frustrating I can't believe it\",\n",
    "    \"Thank you for your help\",\n",
    "    \"New fitness journey starts today. Day 1 of 365\"\n",
    "]\n",
    "\n",
    "predictions = predict_emoji(sample_texts)\n",
    "\n",
    "print(\"\\nPredicted Emojis:\")\n",
    "for text, emoji in predictions:\n",
    "    print(f\"'{text}' → {emoji}\")\n"
   ]
  },
  {
   "cell_type": "code",
   "execution_count": null,
   "id": "ee7ea2b0",
   "metadata": {},
   "outputs": [
    {
     "name": "stdout",
     "output_type": "stream",
     "text": [
      "\n",
      "Predicted Emojis:\n",
      "'Concert tickets secured for my favorite band! ' → 🤍\n",
      "'Happy birthday to you my friend' → 🥳\n",
      "'This is so frustrating I can't believe it' → 😭\n",
      "'Thank you for your help' → 🙏\n",
      "'New fitness journey starts today. Day 1 of 365' → 👉\n",
      "\n",
      "Enter your sentence (or type 'exit' to quit): That joke was so bad, it felt like a clown show #embarrassing\n",
      "'That joke was so bad, it felt like a clown show #embarrassing' → 🤡\n",
      "\n",
      "Enter your sentence (or type 'exit' to quit): Cracking eggs for breakfast #morningvibes\n",
      "'Cracking eggs for breakfast #morningvibes' → 🥚\n",
      "\n",
      "Enter your sentence (or type 'exit' to quit): This pizza is so good!\n",
      "'This pizza is so good!' → 😋\n",
      "\n",
      "Enter your sentence (or type 'exit' to quit): I literally can't stop laughing \n",
      "'I literally can't stop laughing ' → 😭\n",
      "\n",
      "Enter your sentence (or type 'exit' to quit): Who’s ready for Halloween? #spookyseason\n",
      "'Who’s ready for Halloween? #spookyseason' → 👻\n",
      "\n",
      "Enter your sentence (or type 'exit' to quit): Just finished a big presentation#relieved\n",
      "'Just finished a big presentation#relieved' → 🎉\n",
      "\n",
      "Enter your sentence (or type 'exit' to quit): I’m melting from this heat\n",
      "'I’m melting from this heat' → 🥵\n",
      "\n",
      "Enter your sentence (or type 'exit' to quit): Sending love to all of you\n",
      "'Sending love to all of you' → ❤️\n",
      "\n",
      "Enter your sentence (or type 'exit' to quit): That horror movie was too scary \n",
      "'That horror movie was too scary ' → 😨\n",
      "\n",
      "Enter your sentence (or type 'exit' to quit): Cool vibes only\n",
      "'Cool vibes only' → 😎\n",
      "\n",
      "Enter your sentence (or type 'exit' to quit): Feeling magical today\n",
      "'Feeling magical today' → 🤍\n",
      "\n",
      "Enter your sentence (or type 'exit' to quit): The sun is shining and it's a beautiful day\n",
      "'The sun is shining and it's a beautiful day' → ☀️\n"
     ]
    }
   ],
   "source": [
    "import re\n",
    "\n",
    "# Step 1: Clean text\n",
    "def clean_text(text):\n",
    "    text = re.sub(r\"http\\S+\", \"\", text)  \n",
    "    text = re.sub(r\"@\\w+\", \"\", text)     \n",
    "    text = re.sub(r\"#\\w+\", \"\", text)     \n",
    "    text = re.sub(r\"[^\\w\\s]\", \"\", text)  \n",
    "    text = text.lower().strip()\n",
    "    return text\n",
    "\n",
    "# Step 2: Define mapping from emoji label name → actual emoji\n",
    "emoji_label_to_char = {\n",
    "    'backhand_index_pointing_right': '👉',\n",
    "    'check_mark': '✔️',\n",
    "    'check_mark_button': '✅',\n",
    "    'clown_face': '🤡',\n",
    "    'cooking': '🍳',\n",
    "    'egg': '🥚',\n",
    "    'enraged_face': '😡',\n",
    "    'eyes': '👀',\n",
    "    'face_holding_back_tears': '🥹',\n",
    "    'face_savoring_food': '😋',\n",
    "    'face_with_steam_from_nose': '😤',\n",
    "    'face_with_tears_of_joy': '😂',\n",
    "    'fearful_face': '😨',\n",
    "    'fire': '🔥',\n",
    "    'folded_hands': '🙏',\n",
    "    'ghost': '👻',\n",
    "    'grinning_face_with_sweat': '😅',\n",
    "    'hatching_chick': '🐣',\n",
    "    'hot_face': '🥵',\n",
    "    'loudly_crying_face': '😭',\n",
    "    'melting_face': '🫠',\n",
    "    'middle_finger': '🖕',\n",
    "    'party_popper': '🎉',\n",
    "    'partying_face': '🥳',\n",
    "    'pile_of_poo': '💩',\n",
    "    'rabbit': '🐇',\n",
    "    'rabbit_face': '🐰',\n",
    "    'red_heart': '❤️',\n",
    "    'rolling_on_the_floor_laughing': '🤣',\n",
    "    'saluting_face': '🫡',\n",
    "    'skull': '💀',\n",
    "    'smiling_face': '☺️',\n",
    "    'smiling_face_with_halo': '😇',\n",
    "    'smiling_face_with_heart-eyes': '😍',\n",
    "    'smiling_face_with_hearts': '🥰',\n",
    "    'smiling_face_with_sunglasses': '😎',\n",
    "    'smiling_face_with_tear': '🥲',\n",
    "    'sparkles': '✨',\n",
    "    'sun': '☀️',\n",
    "    'thinking_face': '🤔',\n",
    "    'thumbs_up': '👍',\n",
    "    'white_heart': '🤍',\n",
    "    'winking_face': '😉'\n",
    "}\n",
    "\n",
    "# Step 3: Predict and convert label → emoji character\n",
    "def predict_emoji(texts):\n",
    "    cleaned = [clean_text(text) for text in texts]\n",
    "    vec = vectorizer.transform(cleaned)\n",
    "    preds = model.predict(vec)\n",
    "    emoji_labels = label_encoder.inverse_transform(preds)\n",
    "    emojis = [emoji_label_to_char[label] for label in emoji_labels]\n",
    "    return list(zip(texts, emojis))\n",
    "\n",
    "# Step 4: Test example\n",
    "sample_texts = [\n",
    "    \"Concert tickets secured for my favorite band! \",\n",
    "    \"Happy birthday to you my friend\",\n",
    "    \"This is so frustrating I can't believe it\",\n",
    "    \"Thank you for your help\",\n",
    "    \"New fitness journey starts today. Day 1 of 365\"\n",
    "]\n",
    "\n",
    "predictions = predict_emoji(sample_texts)\n",
    "\n",
    "# Step 5: Display\n",
    "print(\"\\nPredicted Emojis:\")\n",
    "for text, emoji in predictions:\n",
    "    print(f\"'{text}' → {emoji}\")\n",
    "    \n",
    " \n",
    "# Step 5: Runtime input\n",
    "while True:\n",
    "    user_input = input(\"\\nEnter your sentence (or type 'exit' to quit): \")\n",
    "    if user_input.lower() == \"exit\":\n",
    "        break\n",
    "    prediction = predict_emoji([user_input])\n",
    "    print(f\"'{user_input}' → {prediction[0][1]}\")\n"
   ]
  }
 ],
 "metadata": {
  "kernelspec": {
   "display_name": "Python 3 (ipykernel)",
   "language": "python",
   "name": "python3"
  },
  "language_info": {
   "codemirror_mode": {
    "name": "ipython",
    "version": 3
   },
   "file_extension": ".py",
   "mimetype": "text/x-python",
   "name": "python",
   "nbconvert_exporter": "python",
   "pygments_lexer": "ipython3",
   "version": "3.11.4"
  }
 },
 "nbformat": 4,
 "nbformat_minor": 5
}
